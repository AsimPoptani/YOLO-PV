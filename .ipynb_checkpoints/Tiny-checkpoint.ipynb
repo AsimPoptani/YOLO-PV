{
 "cells": [
  {
   "cell_type": "code",
   "execution_count": 3,
   "metadata": {},
   "outputs": [],
   "source": [
    "import tensorflow as tf\n",
    "import tensorflow.keras as K"
   ]
  },
  {
   "cell_type": "code",
   "execution_count": 19,
   "metadata": {},
   "outputs": [],
   "source": [
    "def convNet(x,filters):\n",
    "    skip=x\n",
    "    x=K.layers.Conv2D(filters,(3,3),padding=\"same\")(x)\n",
    "        x=K.layers.BatchNormalization()(x)\n",
    "    x=K.layers.LeakyReLU()(x)\n",
    "\n",
    "    x=K.layers.MaxPool2D()(x)\n",
    "    return x\n",
    "    "
   ]
  },
  {
   "cell_type": "code",
   "execution_count": 20,
   "metadata": {},
   "outputs": [],
   "source": [
    "# Based off https://ieeexplore.ieee.org/stamp/stamp.jsp?tp=&arnumber=9074315\n",
    "input=K.Input(shape=(416,416,3))\n",
    "x=convNet(input,16)\n",
    "x=convNet(x,32)\n",
    "model=K.Model(inputs=input,outputs=x,name=\"YOLO-PV\")"
   ]
  },
  {
   "cell_type": "code",
   "execution_count": 21,
   "metadata": {},
   "outputs": [
    {
     "name": "stdout",
     "output_type": "stream",
     "text": [
      "Model: \"YOLO-PV\"\n",
      "_________________________________________________________________\n",
      "Layer (type)                 Output Shape              Param #   \n",
      "=================================================================\n",
      "input_10 (InputLayer)        [(None, 416, 416, 3)]     0         \n",
      "_________________________________________________________________\n",
      "conv2d_8 (Conv2D)            (None, 416, 416, 16)      448       \n",
      "_________________________________________________________________\n",
      "leaky_re_lu_8 (LeakyReLU)    (None, 416, 416, 16)      0         \n",
      "_________________________________________________________________\n",
      "batch_normalization_8 (Batch (None, 416, 416, 16)      64        \n",
      "_________________________________________________________________\n",
      "max_pooling2d_8 (MaxPooling2 (None, 208, 208, 16)      0         \n",
      "_________________________________________________________________\n",
      "conv2d_9 (Conv2D)            (None, 208, 208, 32)      4640      \n",
      "_________________________________________________________________\n",
      "leaky_re_lu_9 (LeakyReLU)    (None, 208, 208, 32)      0         \n",
      "_________________________________________________________________\n",
      "batch_normalization_9 (Batch (None, 208, 208, 32)      128       \n",
      "_________________________________________________________________\n",
      "max_pooling2d_9 (MaxPooling2 (None, 104, 104, 32)      0         \n",
      "=================================================================\n",
      "Total params: 5,280\n",
      "Trainable params: 5,184\n",
      "Non-trainable params: 96\n",
      "_________________________________________________________________\n"
     ]
    }
   ],
   "source": [
    "model.summary()"
   ]
  }
 ],
 "metadata": {
  "kernelspec": {
   "display_name": "Python 3",
   "language": "python",
   "name": "python3"
  },
  "language_info": {
   "codemirror_mode": {
    "name": "ipython",
    "version": 3
   },
   "file_extension": ".py",
   "mimetype": "text/x-python",
   "name": "python",
   "nbconvert_exporter": "python",
   "pygments_lexer": "ipython3",
   "version": "3.8.6"
  }
 },
 "nbformat": 4,
 "nbformat_minor": 4
}
